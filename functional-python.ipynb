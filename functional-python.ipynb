{
 "cells": [
  {
   "cell_type": "markdown",
   "metadata": {
    "slideshow": {
     "slide_type": "slide"
    }
   },
   "source": [
    "## Functional Programming in Python\n",
    "\n",
    "#### By Vic Kumar | [https://github.com/vickumar1981/functional_python](https://github.com/vickumar1981/functional_python)\n",
    "\n",
    "##### Salt Lake City, UT  |  PyCon 2022\n",
    "\n",
    "![Functional Programming Image](img/fp-img.png)"
   ]
  },
  {
   "cell_type": "markdown",
   "metadata": {
    "slideshow": {
     "slide_type": "slide"
    }
   },
   "source": [
    "## About Me\n",
    "\n",
    "#### Software Developer at Excella, Inc.\n",
    "#### [https://excella.com](https://excella.com) ![Excella Logo](img/excella.png)\n",
    "\n",
    "\n",
    "##### Technology Consulting firm based in Arlington, VA\n",
    "##### Modern Software Delivery, AI and Data Analytics, Agile Transformation\n"
   ]
  },
  {
   "cell_type": "markdown",
   "metadata": {
    "slideshow": {
     "slide_type": "slide"
    }
   },
   "source": [
    "## Projects\n",
    "\n",
    "### [Goto Code | https://gotocode.io](https://gotocode.io)\n",
    "#### Remote interviews, coding problems, hackathons, and code katas\n",
    "![Goto code Logo](img/gotocode.jpg)"
   ]
  },
  {
   "cell_type": "markdown",
   "metadata": {
    "slideshow": {
     "slide_type": "subslide"
    }
   },
   "source": [
    "### [HBCU Digital | https://hbcudigital.com](https://hbcudigital.com)\n",
    "#### Stay current with all the latest news, photos, videos, scores and more on Historically Black College and Universities. Stream exclusive live sports and Originals that celebrate Black voices.\n",
    "![HBCU Digital Logo](img/hbcudigital.jpg)"
   ]
  },
  {
   "cell_type": "markdown",
   "metadata": {
    "slideshow": {
     "slide_type": "slide"
    }
   },
   "source": [
    "## What is functional programming?\n",
    "\n",
    "> Functional programming ( FP ) is based on a simple premise with far-reaching implications: we construct our programs using only pure functions—in other words, functions that have no side effects.\n",
    "\n",
    "![FP Design Image](img/fp-design.jpg)"
   ]
  },
  {
   "cell_type": "markdown",
   "metadata": {
    "slideshow": {
     "slide_type": "subslide"
    }
   },
   "source": [
    "> What are side effects? A function has a side effect if it\n",
    "does something other than simply return a result, for example:\n",
    "\n",
    "- Modifying a variable\n",
    "- Modifying a data structure in place\n",
    "- Setting a field on an object\n",
    "- Throwing an exception or halting with an error\n",
    "- Printing to the console or reading user input\n",
    "- Reading from or writing to a file\n",
    "- Drawing on the screen"
   ]
  },
  {
   "cell_type": "markdown",
   "metadata": {
    "slideshow": {
     "slide_type": "slide"
    }
   },
   "source": [
    "## What is referential transparency?\n",
    "\n",
    "> An expression e is referentially transparent if, for all programs p, all occurrences of e in p can be replaced by the result of evaluating e without affecting the meaning of p. A function f is pure if the expression f(x) is referentially transparent for all referentially transparent x.\n",
    "\n",
    "![Head explodes](img/head-explode.png)"
   ]
  },
  {
   "cell_type": "code",
   "execution_count": 1,
   "metadata": {
    "slideshow": {
     "slide_type": "subslide"
    }
   },
   "outputs": [
    {
     "data": {
      "text/plain": [
       "20"
      ]
     },
     "execution_count": 1,
     "metadata": {},
     "output_type": "execute_result"
    }
   ],
   "source": [
    "from typing import List\n",
    "\n",
    "def add_numbers(numbers: List[int]) -> int:\n",
    "    sum = 0\n",
    "    for n in numbers:\n",
    "        sum = sum + n\n",
    "    return sum\n",
    "\n",
    "add_numbers([1, 5, 6, 8])"
   ]
  },
  {
   "cell_type": "code",
   "execution_count": 2,
   "metadata": {
    "slideshow": {
     "slide_type": "fragment"
    }
   },
   "outputs": [
    {
     "data": {
      "text/plain": [
       "8"
      ]
     },
     "execution_count": 2,
     "metadata": {},
     "output_type": "execute_result"
    }
   ],
   "source": [
    "from typing import List\n",
    "\n",
    "def add_numbers(numbers: List[int]) -> int:\n",
    "    # if sum = 0, we should be able to replace sum on the RHS with 0 and get the same result\n",
    "    sum = 0\n",
    "    for n in numbers:\n",
    "        sum = 0 + n\n",
    "    return sum\n",
    "\n",
    "add_numbers([1, 5, 6, 8])"
   ]
  },
  {
   "cell_type": "code",
   "execution_count": 3,
   "metadata": {
    "slideshow": {
     "slide_type": "subslide"
    }
   },
   "outputs": [
    {
     "data": {
      "text/plain": [
       "20"
      ]
     },
     "execution_count": 3,
     "metadata": {},
     "output_type": "execute_result"
    }
   ],
   "source": [
    "# Let's use recursion\n",
    "\n",
    "def add_numbers2(numbers: List[int]) -> int:\n",
    "    return numbers[0] if len(numbers) == 1 else numbers[0] + add_numbers2(numbers[1:])\n",
    "\n",
    "add_numbers2([1, 5, 6, 8])"
   ]
  },
  {
   "cell_type": "code",
   "execution_count": 4,
   "metadata": {
    "slideshow": {
     "slide_type": "fragment"
    }
   },
   "outputs": [
    {
     "data": {
      "text/plain": [
       "20"
      ]
     },
     "execution_count": 4,
     "metadata": {},
     "output_type": "execute_result"
    }
   ],
   "source": [
    "# Let's use a higher-order function\n",
    "\n",
    "from functools import reduce\n",
    "\n",
    "def add_numbers3(numbers: List[int]) -> int:\n",
    "    return reduce(lambda a, b: a + b, numbers)\n",
    "\n",
    "add_numbers3([1, 5, 6, 8])"
   ]
  },
  {
   "cell_type": "markdown",
   "metadata": {
    "slideshow": {
     "slide_type": "slide"
    }
   },
   "source": [
    "### pyEffects: Let's add some classes to deal with common behaviors\n",
    "#### Classes:  Option, Try, Either, and Future\n",
    "![pyEffects Logo](img/pyeffects.jpg)\n",
    "\n",
    "[https://github.com/vickumar1981/pyeffects/](https://github.com/vickumar1981/pyeffects/)\n",
    "\n",
    "[Read the Docs](https://pyeffects.readthedocs.io/en/latest/?badge=latest)"
   ]
  },
  {
   "cell_type": "code",
   "execution_count": 5,
   "metadata": {
    "slideshow": {
     "slide_type": "fragment"
    }
   },
   "outputs": [
    {
     "name": "stdout",
     "output_type": "stream",
     "text": [
      "Requirement already satisfied: pyeffects in /home/vic/anaconda3/lib/python3.9/site-packages (1.0.5)\r\n"
     ]
    }
   ],
   "source": [
    "!pip install pyeffects"
   ]
  },
  {
   "cell_type": "markdown",
   "metadata": {
    "slideshow": {
     "slide_type": "slide"
    }
   },
   "source": [
    "## Dealing with Emptiness: Option\n",
    "\n",
    "![Option class diagram](img/option-diagram.png)"
   ]
  },
  {
   "cell_type": "markdown",
   "metadata": {
    "slideshow": {
     "slide_type": "subslide"
    }
   },
   "source": [
    "### An Example Data Model"
   ]
  },
  {
   "cell_type": "code",
   "execution_count": 6,
   "metadata": {
    "slideshow": {
     "slide_type": "fragment"
    }
   },
   "outputs": [],
   "source": [
    "from dataclasses import dataclass\n",
    "from pyeffects.Option import *\n",
    "\n",
    "@dataclass\n",
    "class Name:\n",
    "    first_name: str = None\n",
    "    last_name: str = None\n",
    "    \n",
    "    def get_last_name(self) -> Option[str]:\n",
    "        return Option.of(self.last_name)\n",
    "        \n",
    "    def get_first_name(self) -> Option[str]:\n",
    "        return Option.of(self.first_name)\n",
    "        \n",
    "@dataclass\n",
    "class Contact:\n",
    "    name: Name = None\n",
    "    relationship: str = \"primary contact\"\n",
    "        \n",
    "    def get_name(self) -> Option[Name]:\n",
    "        return Option.of(self.name)\n",
    "\n",
    "@dataclass\n",
    "class Person:\n",
    "    name: Name = None\n",
    "    contact1: Contact = None\n",
    "    contact2: Contact = None\n",
    "        \n",
    "    def get_name(self) -> Option[Name]:\n",
    "        return Option.of(self.name)\n",
    "        \n",
    "    def get_contact1(self) -> Option[Contact]:\n",
    "        return Option.of(self.contact1)\n",
    "        \n",
    "    def get_contact2(self) -> Option[Contact]:\n",
    "        return Option.of(self.contact2)"
   ]
  },
  {
   "cell_type": "code",
   "execution_count": 7,
   "metadata": {
    "slideshow": {
     "slide_type": "subslide"
    }
   },
   "outputs": [
    {
     "data": {
      "text/plain": [
       "'Bob'"
      ]
     },
     "execution_count": 7,
     "metadata": {},
     "output_type": "execute_result"
    }
   ],
   "source": [
    "def get_contact_first_name(person: Person) -> str:\n",
    "    if person and person.contact1 and person.contact1.name:\n",
    "        return person.contact1.name.first_name\n",
    "    else:\n",
    "        return None\n",
    "    \n",
    "p = Person(\"Person 1\", Contact(Name(\"Bob\", \"Smith\"), \"grandfather\"), Contact(Name(\"Mary\", \"Smith\"), \"mother\"))\n",
    "\n",
    "get_contact_first_name(p)"
   ]
  },
  {
   "cell_type": "code",
   "execution_count": 8,
   "metadata": {
    "slideshow": {
     "slide_type": "fragment"
    }
   },
   "outputs": [
    {
     "data": {
      "text/plain": [
       "Some(Bob)"
      ]
     },
     "execution_count": 8,
     "metadata": {},
     "output_type": "execute_result"
    }
   ],
   "source": [
    "def get_contact_first_name2(person: Person) -> Option[str]:\n",
    "    return person.get_contact1()\\\n",
    "        .flat_map(Contact.get_name)\\\n",
    "        .flat_map(Name.get_first_name)\n",
    "\n",
    "get_contact_first_name2(p)"
   ]
  },
  {
   "cell_type": "code",
   "execution_count": 9,
   "metadata": {
    "slideshow": {
     "slide_type": "fragment"
    }
   },
   "outputs": [
    {
     "data": {
      "text/plain": [
       "'No contact name'"
      ]
     },
     "execution_count": 9,
     "metadata": {},
     "output_type": "execute_result"
    }
   ],
   "source": [
    "person_with_no_contacts = Person(\"Person 2\")\n",
    "get_contact_first_name2(person_with_no_contacts).get_or_else(\"No contact name\")"
   ]
  },
  {
   "cell_type": "markdown",
   "metadata": {
    "slideshow": {
     "slide_type": "slide"
    }
   },
   "source": [
    "## Dealing with Exceptions: Try\n",
    "![Try class diagram](img/try-diagram.png)"
   ]
  },
  {
   "cell_type": "code",
   "execution_count": 10,
   "metadata": {
    "slideshow": {
     "slide_type": "subslide"
    }
   },
   "outputs": [],
   "source": [
    "person1_str = \"\"\"\n",
    "{\n",
    "  \"name\": {\n",
    "      \"first_name\": \"1st\",\n",
    "      \"last_name\": \"Person\"\n",
    "  },\n",
    "  \"contact1\": {\n",
    "      \"name\": {\n",
    "          \"first_name\": \"Alice\",\n",
    "          \"last_name\": \"Jones\"\n",
    "      }\n",
    "  }\n",
    "}\n",
    "\"\"\"\n",
    "\n",
    "person2_str = \"\"\"\n",
    "{\n",
    "  \"name\": {\n",
    "      \"first_name\": \"2nd\",\n",
    "      \"last_name\": \"Person\"\n",
    "  },\n",
    "  \"contact1\": {\n",
    "      \"name\": {\n",
    "          \"first_name_is_wrong\": \"Mary\",\n",
    "          \"last_name\": \"Jones\"\n",
    "      }\n",
    "  }\n",
    "}\n",
    "\"\"\""
   ]
  },
  {
   "cell_type": "code",
   "execution_count": 11,
   "metadata": {
    "slideshow": {
     "slide_type": "subslide"
    }
   },
   "outputs": [
    {
     "data": {
      "text/plain": [
       "'Alice'"
      ]
     },
     "execution_count": 11,
     "metadata": {},
     "output_type": "execute_result"
    }
   ],
   "source": [
    "import json\n",
    "\n",
    "def parse_name(name_dict: dict) -> Name:\n",
    "    try:\n",
    "        n = Name(**name_dict)\n",
    "        return n\n",
    "    except TypeError as te:\n",
    "        raise TypeError(\"Couldn't deserialize Name: \" + str(te))\n",
    "\n",
    "def parse_contact(contact_dict: dict, relationship: str) -> Contact:\n",
    "    n = None\n",
    "    if 'name' in contact_dict:\n",
    "        n = parse_name(contact_dict['name'])\n",
    "    return Contact(name = n, relationship = relationship)\n",
    "        \n",
    "def parse_person(json_str: str) -> Person:\n",
    "    attributes = json.loads(json_str)\n",
    "    n, contact1, contact2 = (None, None, None)\n",
    "    if 'name' in attributes:\n",
    "        n = parse_name(attributes['name'])\n",
    "    if 'contact1' in attributes:\n",
    "        contact1 = parse_contact(attributes['contact1'], 'contact1')\n",
    "    if 'contact2' in attributes:\n",
    "        contact2 = parse_contact(attributes['contact2'], 'contact2')\n",
    "    return Person(n, contact1, contact2)\n",
    "\n",
    "person1 = parse_person(person1_str)\n",
    "person1.contact1.name.first_name"
   ]
  },
  {
   "cell_type": "code",
   "execution_count": 12,
   "metadata": {
    "slideshow": {
     "slide_type": "subslide"
    }
   },
   "outputs": [
    {
     "ename": "TypeError",
     "evalue": "Couldn't deserialize Name: __init__() got an unexpected keyword argument 'first_name_is_wrong'",
     "output_type": "error",
     "traceback": [
      "\u001b[0;31m---------------------------------------------------------------------------\u001b[0m",
      "\u001b[0;31mTypeError\u001b[0m                                 Traceback (most recent call last)",
      "\u001b[0;32m/tmp/ipykernel_18045/2680335701.py\u001b[0m in \u001b[0;36mparse_name\u001b[0;34m(name_dict)\u001b[0m\n\u001b[1;32m      4\u001b[0m     \u001b[0;32mtry\u001b[0m\u001b[0;34m:\u001b[0m\u001b[0;34m\u001b[0m\u001b[0;34m\u001b[0m\u001b[0m\n\u001b[0;32m----> 5\u001b[0;31m         \u001b[0mn\u001b[0m \u001b[0;34m=\u001b[0m \u001b[0mName\u001b[0m\u001b[0;34m(\u001b[0m\u001b[0;34m**\u001b[0m\u001b[0mname_dict\u001b[0m\u001b[0;34m)\u001b[0m\u001b[0;34m\u001b[0m\u001b[0;34m\u001b[0m\u001b[0m\n\u001b[0m\u001b[1;32m      6\u001b[0m         \u001b[0;32mreturn\u001b[0m \u001b[0mn\u001b[0m\u001b[0;34m\u001b[0m\u001b[0;34m\u001b[0m\u001b[0m\n",
      "\u001b[0;31mTypeError\u001b[0m: __init__() got an unexpected keyword argument 'first_name_is_wrong'",
      "\nDuring handling of the above exception, another exception occurred:\n",
      "\u001b[0;31mTypeError\u001b[0m                                 Traceback (most recent call last)",
      "\u001b[0;32m/tmp/ipykernel_18045/1474534612.py\u001b[0m in \u001b[0;36m<module>\u001b[0;34m\u001b[0m\n\u001b[0;32m----> 1\u001b[0;31m \u001b[0mperson2\u001b[0m \u001b[0;34m=\u001b[0m \u001b[0mparse_person\u001b[0m\u001b[0;34m(\u001b[0m\u001b[0mperson2_str\u001b[0m\u001b[0;34m)\u001b[0m\u001b[0;34m\u001b[0m\u001b[0;34m\u001b[0m\u001b[0m\n\u001b[0m",
      "\u001b[0;32m/tmp/ipykernel_18045/2680335701.py\u001b[0m in \u001b[0;36mparse_person\u001b[0;34m(json_str)\u001b[0m\n\u001b[1;32m     20\u001b[0m         \u001b[0mn\u001b[0m \u001b[0;34m=\u001b[0m \u001b[0mparse_name\u001b[0m\u001b[0;34m(\u001b[0m\u001b[0mattributes\u001b[0m\u001b[0;34m[\u001b[0m\u001b[0;34m'name'\u001b[0m\u001b[0;34m]\u001b[0m\u001b[0;34m)\u001b[0m\u001b[0;34m\u001b[0m\u001b[0;34m\u001b[0m\u001b[0m\n\u001b[1;32m     21\u001b[0m     \u001b[0;32mif\u001b[0m \u001b[0;34m'contact1'\u001b[0m \u001b[0;32min\u001b[0m \u001b[0mattributes\u001b[0m\u001b[0;34m:\u001b[0m\u001b[0;34m\u001b[0m\u001b[0;34m\u001b[0m\u001b[0m\n\u001b[0;32m---> 22\u001b[0;31m         \u001b[0mcontact1\u001b[0m \u001b[0;34m=\u001b[0m \u001b[0mparse_contact\u001b[0m\u001b[0;34m(\u001b[0m\u001b[0mattributes\u001b[0m\u001b[0;34m[\u001b[0m\u001b[0;34m'contact1'\u001b[0m\u001b[0;34m]\u001b[0m\u001b[0;34m,\u001b[0m \u001b[0;34m'contact1'\u001b[0m\u001b[0;34m)\u001b[0m\u001b[0;34m\u001b[0m\u001b[0;34m\u001b[0m\u001b[0m\n\u001b[0m\u001b[1;32m     23\u001b[0m     \u001b[0;32mif\u001b[0m \u001b[0;34m'contact2'\u001b[0m \u001b[0;32min\u001b[0m \u001b[0mattributes\u001b[0m\u001b[0;34m:\u001b[0m\u001b[0;34m\u001b[0m\u001b[0;34m\u001b[0m\u001b[0m\n\u001b[1;32m     24\u001b[0m         \u001b[0mcontact2\u001b[0m \u001b[0;34m=\u001b[0m \u001b[0mparse_contact\u001b[0m\u001b[0;34m(\u001b[0m\u001b[0mattributes\u001b[0m\u001b[0;34m[\u001b[0m\u001b[0;34m'contact2'\u001b[0m\u001b[0;34m]\u001b[0m\u001b[0;34m,\u001b[0m \u001b[0;34m'contact2'\u001b[0m\u001b[0;34m)\u001b[0m\u001b[0;34m\u001b[0m\u001b[0;34m\u001b[0m\u001b[0m\n",
      "\u001b[0;32m/tmp/ipykernel_18045/2680335701.py\u001b[0m in \u001b[0;36mparse_contact\u001b[0;34m(contact_dict, relationship)\u001b[0m\n\u001b[1;32m     11\u001b[0m     \u001b[0mn\u001b[0m \u001b[0;34m=\u001b[0m \u001b[0;32mNone\u001b[0m\u001b[0;34m\u001b[0m\u001b[0;34m\u001b[0m\u001b[0m\n\u001b[1;32m     12\u001b[0m     \u001b[0;32mif\u001b[0m \u001b[0;34m'name'\u001b[0m \u001b[0;32min\u001b[0m \u001b[0mcontact_dict\u001b[0m\u001b[0;34m:\u001b[0m\u001b[0;34m\u001b[0m\u001b[0;34m\u001b[0m\u001b[0m\n\u001b[0;32m---> 13\u001b[0;31m         \u001b[0mn\u001b[0m \u001b[0;34m=\u001b[0m \u001b[0mparse_name\u001b[0m\u001b[0;34m(\u001b[0m\u001b[0mcontact_dict\u001b[0m\u001b[0;34m[\u001b[0m\u001b[0;34m'name'\u001b[0m\u001b[0;34m]\u001b[0m\u001b[0;34m)\u001b[0m\u001b[0;34m\u001b[0m\u001b[0;34m\u001b[0m\u001b[0m\n\u001b[0m\u001b[1;32m     14\u001b[0m     \u001b[0;32mreturn\u001b[0m \u001b[0mContact\u001b[0m\u001b[0;34m(\u001b[0m\u001b[0mname\u001b[0m \u001b[0;34m=\u001b[0m \u001b[0mn\u001b[0m\u001b[0;34m,\u001b[0m \u001b[0mrelationship\u001b[0m \u001b[0;34m=\u001b[0m \u001b[0mrelationship\u001b[0m\u001b[0;34m)\u001b[0m\u001b[0;34m\u001b[0m\u001b[0;34m\u001b[0m\u001b[0m\n\u001b[1;32m     15\u001b[0m \u001b[0;34m\u001b[0m\u001b[0m\n",
      "\u001b[0;32m/tmp/ipykernel_18045/2680335701.py\u001b[0m in \u001b[0;36mparse_name\u001b[0;34m(name_dict)\u001b[0m\n\u001b[1;32m      6\u001b[0m         \u001b[0;32mreturn\u001b[0m \u001b[0mn\u001b[0m\u001b[0;34m\u001b[0m\u001b[0;34m\u001b[0m\u001b[0m\n\u001b[1;32m      7\u001b[0m     \u001b[0;32mexcept\u001b[0m \u001b[0mTypeError\u001b[0m \u001b[0;32mas\u001b[0m \u001b[0mte\u001b[0m\u001b[0;34m:\u001b[0m\u001b[0;34m\u001b[0m\u001b[0;34m\u001b[0m\u001b[0m\n\u001b[0;32m----> 8\u001b[0;31m         \u001b[0;32mraise\u001b[0m \u001b[0mTypeError\u001b[0m\u001b[0;34m(\u001b[0m\u001b[0;34m\"Couldn't deserialize Name: \"\u001b[0m \u001b[0;34m+\u001b[0m \u001b[0mstr\u001b[0m\u001b[0;34m(\u001b[0m\u001b[0mte\u001b[0m\u001b[0;34m)\u001b[0m\u001b[0;34m)\u001b[0m\u001b[0;34m\u001b[0m\u001b[0;34m\u001b[0m\u001b[0m\n\u001b[0m\u001b[1;32m      9\u001b[0m \u001b[0;34m\u001b[0m\u001b[0m\n\u001b[1;32m     10\u001b[0m \u001b[0;32mdef\u001b[0m \u001b[0mparse_contact\u001b[0m\u001b[0;34m(\u001b[0m\u001b[0mcontact_dict\u001b[0m\u001b[0;34m:\u001b[0m \u001b[0mdict\u001b[0m\u001b[0;34m,\u001b[0m \u001b[0mrelationship\u001b[0m\u001b[0;34m:\u001b[0m \u001b[0mstr\u001b[0m\u001b[0;34m)\u001b[0m \u001b[0;34m->\u001b[0m \u001b[0mContact\u001b[0m\u001b[0;34m:\u001b[0m\u001b[0;34m\u001b[0m\u001b[0;34m\u001b[0m\u001b[0m\n",
      "\u001b[0;31mTypeError\u001b[0m: Couldn't deserialize Name: __init__() got an unexpected keyword argument 'first_name_is_wrong'"
     ]
    }
   ],
   "source": [
    "person2 = parse_person(person2_str)"
   ]
  },
  {
   "cell_type": "code",
   "execution_count": 13,
   "metadata": {
    "slideshow": {
     "slide_type": "subslide"
    }
   },
   "outputs": [],
   "source": [
    "import json\n",
    "from pyeffects.Try import *\n",
    "\n",
    "def parse_name(name_dict: dict) -> Try[Name]:\n",
    "    return Try.of(lambda: Name(**name_dict['name']))\n",
    "\n",
    "def handle_parse_error(relationship: str) -> Contact:\n",
    "    print(f\"Error parsing contact: {relationship} (relationship)\")\n",
    "    return Contact(relationship = relationship)\n",
    "\n",
    "def parse_contact(contact_dict: dict, relationship: str) -> Contact:\n",
    "    return parse_name(contact_dict)\\\n",
    "        .map(lambda n: Contact(name = n, relationship = relationship))\\\n",
    "        .or_else_supply(lambda: handle_parse_error(relationship))\n",
    "        \n",
    "def parse_person(json_str: str) -> Person:\n",
    "    attributes = json.loads(json_str)\n",
    "    n = parse_name(attributes).get_or_else(None)\n",
    "    contact1 = Try.of(lambda: parse_contact(attributes['contact1'], 'contact1')).get_or_else(None)\n",
    "    contact2 = Try.of(lambda: parse_contact(attributes['contact2'], 'contact2')).get_or_else(None)\n",
    "    return Person(n, contact1, contact2)"
   ]
  },
  {
   "cell_type": "code",
   "execution_count": 14,
   "metadata": {
    "slideshow": {
     "slide_type": "subslide"
    }
   },
   "outputs": [
    {
     "name": "stdout",
     "output_type": "stream",
     "text": [
      "1st Person\n",
      "Alice\n",
      "Error parsing contact: contact1 (relationship)\n",
      "2nd Person\n",
      "None\n"
     ]
    }
   ],
   "source": [
    "person1 = parse_person(person1_str)\n",
    "print(f\"{person1.name.first_name} {person1.name.last_name}\")\n",
    "print(person1.contact1.name.first_name)\n",
    "\n",
    "person2 = parse_person(person2_str)\n",
    "print(f\"{person2.name.first_name} {person2.name.last_name}\")\n",
    "print(person2.contact1.name)"
   ]
  },
  {
   "cell_type": "markdown",
   "metadata": {
    "slideshow": {
     "slide_type": "slide"
    }
   },
   "source": [
    "## Dealing with Concurrency: Future\n",
    "![Future class diagram](img/future-diagram.png)"
   ]
  },
  {
   "cell_type": "markdown",
   "metadata": {
    "slideshow": {
     "slide_type": "subslide"
    }
   },
   "source": [
    "### Running in Function a New Thread"
   ]
  },
  {
   "cell_type": "code",
   "execution_count": 15,
   "metadata": {
    "slideshow": {
     "slide_type": "fragment"
    }
   },
   "outputs": [
    {
     "name": "stdout",
     "output_type": "stream",
     "text": [
      "Done: False\n",
      "Done: True\n",
      "Result: 101\n",
      "Execution time: 4.004692077636719 s\n"
     ]
    }
   ],
   "source": [
    "from pyeffects.Future import *\n",
    "import time\n",
    "\n",
    "def delayed_result() -> int:\n",
    "    time.sleep(3)\n",
    "    return 100\n",
    "\n",
    "start_time = time.time()\n",
    "result = Future.run(delayed_result).map(lambda v: v + 1)\n",
    "print(f\"Done: {result.is_done()}\")\n",
    "time.sleep(4)\n",
    "print(f\"Done: {result.is_done()}\")\n",
    "print(f\"Result: {result.get()}\")\n",
    "execution_time = (time.time() - start_time)\n",
    "print(f\"Execution time: {execution_time} s\")"
   ]
  },
  {
   "cell_type": "markdown",
   "metadata": {
    "slideshow": {
     "slide_type": "subslide"
    }
   },
   "source": [
    "### Combining Futures using `flat_map`"
   ]
  },
  {
   "cell_type": "code",
   "execution_count": 16,
   "metadata": {
    "slideshow": {
     "slide_type": "fragment"
    }
   },
   "outputs": [
    {
     "name": "stdout",
     "output_type": "stream",
     "text": [
      "Result: 150\n",
      "Execution time: 5.005802154541016 s\n"
     ]
    }
   ],
   "source": [
    "def delayed_result1() -> int:\n",
    "    time.sleep(3)\n",
    "    return 100\n",
    "\n",
    "def delayed_result2() -> int:\n",
    "    time.sleep(5)\n",
    "    return 50\n",
    "\n",
    "def handle_result(result: Try[int], start_time: int) -> None:\n",
    "    print(f\"Result: {result.get()}\")\n",
    "    execution_time = (time.time() - start_time)\n",
    "    print(f\"Execution time: {execution_time} s\")\n",
    "    \n",
    "\n",
    "start_time = time.time()\n",
    "result1 = Future.run(delayed_result1)\n",
    "result2 = Future.run(delayed_result2)\n",
    "result1.flat_map(lambda v1: result2.map(lambda v2: v1 + v2))\\\n",
    "    .on_complete(lambda v: handle_result(v, start_time))"
   ]
  },
  {
   "cell_type": "markdown",
   "metadata": {
    "slideshow": {
     "slide_type": "subslide"
    }
   },
   "source": [
    "### Dealing with an Asynchronous Errors"
   ]
  },
  {
   "cell_type": "code",
   "execution_count": 17,
   "metadata": {
    "slideshow": {
     "slide_type": "fragment"
    }
   },
   "outputs": [
    {
     "name": "stdout",
     "output_type": "stream",
     "text": [
      "Unable to compute result due to exception\n",
      "Error getting result\n",
      "Execution time: 3.00226092338562 s\n"
     ]
    }
   ],
   "source": [
    "def delayed_result1() -> int:\n",
    "    time.sleep(3)\n",
    "    raise Exception(\"Error getting result\")\n",
    "\n",
    "def delayed_result2() -> int:\n",
    "    time.sleep(5)\n",
    "    return 50\n",
    "\n",
    "def handle_result(result: Try[int], start_time: int) -> None:\n",
    "    if result.is_failure():\n",
    "        print(\"Unable to compute result due to exception\")\n",
    "        print(result.error())\n",
    "    else:\n",
    "        print(f\"Result: {result.get()}\")\n",
    "    execution_time = (time.time() - start_time)\n",
    "    print(f\"Execution time: {execution_time} s\")\n",
    "    \n",
    "\n",
    "start_time = time.time()\n",
    "result1 = Future.run(delayed_result1)\n",
    "result2 = Future.run(delayed_result2)\n",
    "result1.flat_map(lambda v1: result2.map(lambda v2: v1 + v2))\\\n",
    "    .on_complete(lambda v: handle_result(v, start_time))"
   ]
  },
  {
   "cell_type": "markdown",
   "metadata": {
    "slideshow": {
     "slide_type": "subslide"
    }
   },
   "source": [
    "### Using `Future.traverse`"
   ]
  },
  {
   "cell_type": "code",
   "execution_count": 18,
   "metadata": {
    "slideshow": {
     "slide_type": "fragment"
    }
   },
   "outputs": [
    {
     "name": "stdout",
     "output_type": "stream",
     "text": [
      "Result: 150\n",
      "Execution time: 5.003015041351318 s\n"
     ]
    }
   ],
   "source": [
    "def delayed_result1() -> List[int]:\n",
    "    time.sleep(3)\n",
    "    return 100\n",
    "\n",
    "def delayed_result2() -> List[int]:\n",
    "    time.sleep(5)\n",
    "    return 50\n",
    "\n",
    "def handle_result(results: List[int], start_time: int) -> None:\n",
    "    print(f\"Result: {sum(results)}\")\n",
    "    execution_time = (time.time() - start_time)\n",
    "    print(f\"Execution time: {execution_time} s\")\n",
    "    \n",
    "start_time = time.time()\n",
    "result1 = Future.run(delayed_result1)\n",
    "result2 = Future.run(delayed_result2)\n",
    "\n",
    "# Convert List[Future[int]] -> Future[List[int]] \n",
    "Future.traverse([result1, result2])\\\n",
    "    .on_complete(lambda v: handle_result(v.get(), start_time))"
   ]
  },
  {
   "cell_type": "markdown",
   "metadata": {
    "slideshow": {
     "slide_type": "slide"
    }
   },
   "source": [
    "## Take aways\n",
    "\n",
    "- Using side-effects can make code harder to reason about\n",
    "- If functions are referentially transparent, it becomes easier to use localized reasoning\n",
    "- Can use abstractions: Try, Future, Option, Either to replace common behaviors\n",
    "- Fluent API style: reads left to right\n",
    "\n",
    "![Take aways](img/takeaways.jpg)"
   ]
  },
  {
   "cell_type": "markdown",
   "metadata": {
    "slideshow": {
     "slide_type": "slide"
    }
   },
   "source": [
    "![Thank you image](img/thanks.png)\n",
    "\n",
    "### Twitter:  @vickumar1981\n",
    "\n",
    "### Github:  https://github.com/vickumar1981"
   ]
  }
 ],
 "metadata": {
  "celltoolbar": "Slideshow",
  "kernelspec": {
   "display_name": "Python 3 (ipykernel)",
   "language": "python",
   "name": "python3"
  },
  "language_info": {
   "codemirror_mode": {
    "name": "ipython",
    "version": 3
   },
   "file_extension": ".py",
   "mimetype": "text/x-python",
   "name": "python",
   "nbconvert_exporter": "python",
   "pygments_lexer": "ipython3",
   "version": "3.9.9"
  }
 },
 "nbformat": 4,
 "nbformat_minor": 4
}
